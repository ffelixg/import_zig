{
 "cells": [
  {
   "cell_type": "code",
   "execution_count": 1,
   "metadata": {},
   "outputs": [],
   "source": [
    "from import_zig import import_zig"
   ]
  },
  {
   "cell_type": "markdown",
   "metadata": {},
   "source": [
    "# Types of sources\n",
    "\n",
    "There are three ways to import Zig code. Source string, source file and source directory."
   ]
  },
  {
   "cell_type": "code",
   "execution_count": 2,
   "metadata": {},
   "outputs": [
    {
     "data": {
      "text/plain": [
       "1"
      ]
     },
     "execution_count": 2,
     "metadata": {},
     "output_type": "execute_result"
    }
   ],
   "source": [
    "module = import_zig(source_code=\"pub fn one() i32 {return 1;}\")\n",
    "module.one()"
   ]
  },
  {
   "cell_type": "code",
   "execution_count": 3,
   "metadata": {},
   "outputs": [
    {
     "data": {
      "text/plain": [
       "42"
      ]
     },
     "execution_count": 3,
     "metadata": {},
     "output_type": "execute_result"
    }
   ],
   "source": [
    "module = import_zig(file=\"single_file.zig\")\n",
    "module.add(40, 2)"
   ]
  },
  {
   "cell_type": "code",
   "execution_count": 4,
   "metadata": {},
   "outputs": [
    {
     "data": {
      "text/plain": [
       "15"
      ]
     },
     "execution_count": 4,
     "metadata": {},
     "output_type": "execute_result"
    }
   ],
   "source": [
    "module = import_zig(directory=\"multiple_files\")\n",
    "module.add_constant(10)"
   ]
  },
  {
   "cell_type": "markdown",
   "metadata": {},
   "source": [
    "# Compiling to a binary\n",
    "\n",
    "It's also possible to output a binary, which can then be imported again, if it is on Python's path. The below example places the binary in the current working directory, so that it can be imported directly.\n",
    "\n",
    "The binary is platform specific."
   ]
  },
  {
   "cell_type": "code",
   "execution_count": 5,
   "metadata": {},
   "outputs": [],
   "source": [
    "from import_zig import compile_to\n",
    "compile_to(target_dir=\".\", module_name=\"my_module\", file=\"single_file.zig\")"
   ]
  },
  {
   "cell_type": "code",
   "execution_count": 6,
   "metadata": {},
   "outputs": [
    {
     "data": {
      "text/plain": [
       "4"
      ]
     },
     "execution_count": 6,
     "metadata": {},
     "output_type": "execute_result"
    }
   ],
   "source": [
    "import my_module\n",
    "my_module.add(2, 2)"
   ]
  },
  {
   "cell_type": "markdown",
   "metadata": {},
   "source": [
    "# Type mapping\n",
    "\n",
    "The following shows how types are mapped between Zig and Python. Types can be nested arbitrarely"
   ]
  },
  {
   "cell_type": "code",
   "execution_count": 7,
   "metadata": {},
   "outputs": [
    {
     "name": "stdout",
     "output_type": "stream",
     "text": [
      "From Python: import_zig.allTypes(i=5, f=1.5, b=True, a=[1, 2, 3], l=[0, 1, 2, 3, 4], s='hey', st=import_zig.allTypes__struct_8074(a=2, b=3), t=(2, 3), o=None)\n"
     ]
    },
    {
     "name": "stderr",
     "output_type": "stream",
     "text": [
      "From Zig: inner.import_fns.allTypes{ .i = 5, .f = 1.5e0, .b = true, .a = { 1, 2, 3 }, .l = { 0, 1, 2, 3, 4 }, .s = { 104, 101, 121 }, .st = inner.import_fns.allTypes.allTypes__struct_8074{ .a = 2, .b = 3 }, .t = { 2, 3 }, .o = null }\n"
     ]
    }
   ],
   "source": [
    "module = import_zig(source_code=r\"\"\"\n",
    "const std = @import(\"std\");\n",
    "\n",
    "const allTypes = struct {\n",
    "    i: i64,\n",
    "    f: f64,\n",
    "    b: bool,\n",
    "    a: [3]i42,\n",
    "    l: []const i64, // slice\n",
    "    s: []const u8, // string (utf8)\n",
    "    st: struct { a: u8, b: i64 }, // anonymous struct, resulting Python type will still be named\n",
    "    t: std.meta.Tuple(&[_]type{ u8, i64 }), // tuple, will turn into a Python tuple\n",
    "    o: ?i64, // optionals are possible\n",
    "};\n",
    "\n",
    "pub fn testTypes(param: allTypes) allTypes {\n",
    "    std.debug.print(\"From Zig: {any}\\n\", .{param});\n",
    "    return param;\n",
    "}\n",
    "\"\"\")\n",
    "\n",
    "print(\"From Python:\", module.testTypes([\n",
    "    5, 1.5, \"truthy\", [1, 2, 3], range(5), \"hey\", (2, 3), (2, 3), None\n",
    "]))"
   ]
  },
  {
   "cell_type": "markdown",
   "metadata": {},
   "source": [
    "# Python C API\n",
    "\n",
    "It's possible to interact with the C API directly"
   ]
  },
  {
   "cell_type": "code",
   "execution_count": 8,
   "metadata": {},
   "outputs": [
    {
     "data": {
      "text/plain": [
       "2"
      ]
     },
     "execution_count": 8,
     "metadata": {},
     "output_type": "execute_result"
    }
   ],
   "source": [
    "module = import_zig(source_code=r\"\"\"\n",
    "const pyu = @import(\"../py_utils.zig\");\n",
    "const py = pyu.py;\n",
    "\n",
    "pub fn indexList(py_list: *py.PyObject, index: isize) *py.PyObject {\n",
    "    const borrowed = py.PyList_GetItem(py_list, index) orelse unreachable;\n",
    "    return py.Py_NewRef(borrowed);\n",
    "}\n",
    "\"\"\")\n",
    "module.indexList([1,2,3], 1)"
   ]
  },
  {
   "cell_type": "markdown",
   "metadata": {},
   "source": [
    "# Errors\n",
    "\n",
    "Python often indicates errors with null pointers. In the above example we deal with a potential indexing error with the `orelse unreachable` code block, which tells Zig to crash the program if `PyList_GetItem` is unsuccessful.\n",
    "\n",
    "Instead we might want to propagate this exception back to the Python interpreter."
   ]
  },
  {
   "cell_type": "code",
   "execution_count": 10,
   "metadata": {},
   "outputs": [
    {
     "ename": "IndexError",
     "evalue": "list index out of range",
     "output_type": "error",
     "traceback": [
      "\u001b[0;31m---------------------------------------------------------------------------\u001b[0m",
      "\u001b[0;31mIndexError\u001b[0m                                Traceback (most recent call last)",
      "Cell \u001b[0;32mIn[10], line 10\u001b[0m\n\u001b[1;32m      1\u001b[0m module \u001b[38;5;241m=\u001b[39m import_zig(source_code\u001b[38;5;241m=\u001b[39m\u001b[38;5;124mr\u001b[39m\u001b[38;5;124m\"\"\"\u001b[39m\n\u001b[1;32m      2\u001b[0m \u001b[38;5;124mconst pyu = @import(\u001b[39m\u001b[38;5;124m\"\u001b[39m\u001b[38;5;124m../py_utils.zig\u001b[39m\u001b[38;5;124m\"\u001b[39m\u001b[38;5;124m);\u001b[39m\n\u001b[1;32m      3\u001b[0m \u001b[38;5;124mconst py = pyu.py;\u001b[39m\n\u001b[0;32m   (...)\u001b[0m\n\u001b[1;32m      8\u001b[0m \u001b[38;5;124m}\u001b[39m\n\u001b[1;32m      9\u001b[0m \u001b[38;5;124m\"\"\"\u001b[39m)\n\u001b[0;32m---> 10\u001b[0m \u001b[43mmodule\u001b[49m\u001b[38;5;241;43m.\u001b[39;49m\u001b[43mindexList\u001b[49m\u001b[43m(\u001b[49m\u001b[43m[\u001b[49m\u001b[38;5;241;43m1\u001b[39;49m\u001b[43m,\u001b[49m\u001b[38;5;241;43m2\u001b[39;49m\u001b[43m,\u001b[49m\u001b[38;5;241;43m3\u001b[39;49m\u001b[43m]\u001b[49m\u001b[43m,\u001b[49m\u001b[43m \u001b[49m\u001b[38;5;241;43m5\u001b[39;49m\u001b[43m)\u001b[49m\n",
      "\u001b[0;31mIndexError\u001b[0m: list index out of range"
     ]
    }
   ],
   "source": [
    "module = import_zig(source_code=r\"\"\"\n",
    "const pyu = @import(\"../py_utils.zig\");\n",
    "const py = pyu.py;\n",
    "\n",
    "pub fn indexList(py_list: *py.PyObject, index: isize) !*py.PyObject {\n",
    "    const borrowed = py.PyList_GetItem(py_list, index) orelse return pyu.PyErr.PyErr;\n",
    "    return py.Py_NewRef(borrowed);\n",
    "}\n",
    "\"\"\")\n",
    "module.indexList([1,2,3], 5)"
   ]
  },
  {
   "cell_type": "markdown",
   "metadata": {},
   "source": [
    "We can also produce our own exceptions, either by setting an exception using the provided utility function or by returning some other Zig error, which will get wrapped into an exception"
   ]
  },
  {
   "cell_type": "code",
   "execution_count": 12,
   "metadata": {},
   "outputs": [
    {
     "ename": "Exception",
     "evalue": "The value was 5",
     "output_type": "error",
     "traceback": [
      "\u001b[0;31m---------------------------------------------------------------------------\u001b[0m",
      "\u001b[0;31mException\u001b[0m                                 Traceback (most recent call last)",
      "Cell \u001b[0;32mIn[12], line 15\u001b[0m\n\u001b[1;32m      1\u001b[0m module \u001b[38;5;241m=\u001b[39m import_zig(source_code\u001b[38;5;241m=\u001b[39m\u001b[38;5;124mr\u001b[39m\u001b[38;5;124m\"\"\"\u001b[39m\n\u001b[1;32m      2\u001b[0m \u001b[38;5;124mconst pyu = @import(\u001b[39m\u001b[38;5;124m\"\u001b[39m\u001b[38;5;124m../py_utils.zig\u001b[39m\u001b[38;5;124m\"\u001b[39m\u001b[38;5;124m);\u001b[39m\n\u001b[1;32m      3\u001b[0m \u001b[38;5;124mconst py = pyu.py;\u001b[39m\n\u001b[0;32m   (...)\u001b[0m\n\u001b[1;32m     13\u001b[0m \u001b[38;5;124m}\u001b[39m\n\u001b[1;32m     14\u001b[0m \u001b[38;5;124m\"\"\"\u001b[39m)\n\u001b[0;32m---> 15\u001b[0m \u001b[43mmodule\u001b[49m\u001b[38;5;241;43m.\u001b[39;49m\u001b[43mpyExc\u001b[49m\u001b[43m(\u001b[49m\u001b[38;5;241;43m5\u001b[39;49m\u001b[43m)\u001b[49m\n",
      "\u001b[0;31mException\u001b[0m: The value was 5"
     ]
    }
   ],
   "source": [
    "module = import_zig(source_code=r\"\"\"\n",
    "const pyu = @import(\"../py_utils.zig\");\n",
    "const py = pyu.py;\n",
    "\n",
    "pub fn pyExc(value: i64) !*py.PyObject {\n",
    "    return pyu.raise(.Exception, \"The value was {}\", .{value});\n",
    "}\n",
    "\n",
    "const err = error{myerr};\n",
    "\n",
    "pub fn zigErr() !*py.PyObject {\n",
    "    return err.myerr;\n",
    "}\n",
    "\"\"\")\n",
    "module.pyExc(5)"
   ]
  },
  {
   "cell_type": "code",
   "execution_count": 13,
   "metadata": {},
   "outputs": [
    {
     "ename": "Exception",
     "evalue": "Zig function returned an error: error.myerr",
     "output_type": "error",
     "traceback": [
      "\u001b[0;31m---------------------------------------------------------------------------\u001b[0m",
      "\u001b[0;31mException\u001b[0m                                 Traceback (most recent call last)",
      "Cell \u001b[0;32mIn[13], line 1\u001b[0m\n\u001b[0;32m----> 1\u001b[0m \u001b[43mmodule\u001b[49m\u001b[38;5;241;43m.\u001b[39;49m\u001b[43mzigErr\u001b[49m\u001b[43m(\u001b[49m\u001b[43m)\u001b[49m\n",
      "\u001b[0;31mException\u001b[0m: Zig function returned an error: error.myerr"
     ]
    }
   ],
   "source": [
    "module.zigErr()"
   ]
  }
 ],
 "metadata": {
  "kernelspec": {
   "display_name": "newenv2",
   "language": "python",
   "name": "python3"
  },
  "language_info": {
   "codemirror_mode": {
    "name": "ipython",
    "version": 3
   },
   "file_extension": ".py",
   "mimetype": "text/x-python",
   "name": "python",
   "nbconvert_exporter": "python",
   "pygments_lexer": "ipython3",
   "version": "3.12.1"
  }
 },
 "nbformat": 4,
 "nbformat_minor": 2
}
